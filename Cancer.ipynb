{
  "nbformat": 4,
  "nbformat_minor": 0,
  "metadata": {
    "colab": {
      "provenance": [],
      "authorship_tag": "ABX9TyNhj2KQ2uUdx+E/1Tr/gdAv",
      "include_colab_link": true
    },
    "kernelspec": {
      "name": "python3",
      "display_name": "Python 3"
    },
    "language_info": {
      "name": "python"
    },
    "accelerator": "GPU"
  },
  "cells": [
    {
      "cell_type": "markdown",
      "metadata": {
        "id": "view-in-github",
        "colab_type": "text"
      },
      "source": [
        "<a href=\"https://colab.research.google.com/github/abhayhck/cancer/blob/main/Cancer.ipynb\" target=\"_parent\"><img src=\"https://colab.research.google.com/assets/colab-badge.svg\" alt=\"Open In Colab\"/></a>"
      ]
    },
    {
      "cell_type": "code",
      "source": [],
      "metadata": {
        "id": "jP8CvKaJug95"
      },
      "execution_count": null,
      "outputs": []
    },
    {
      "cell_type": "code",
      "execution_count": null,
      "metadata": {
        "id": "UhXKPvBstAyW",
        "colab": {
          "base_uri": "https://localhost:8080/"
        },
        "outputId": "5a38dd67-c8a1-4d47-c744-1a7bd2eec60e"
      },
      "outputs": [
        {
          "output_type": "stream",
          "name": "stdout",
          "text": [
            "--2023-07-14 06:27:20--  https://www.dropbox.com/s/dtw18saps0231yn/BrainTumorData.zip?dl=0\n",
            "Resolving www.dropbox.com (www.dropbox.com)... 162.125.81.18, 2620:100:6031:18::a27d:5112\n",
            "Connecting to www.dropbox.com (www.dropbox.com)|162.125.81.18|:443... connected.\n",
            "HTTP request sent, awaiting response... 302 Found\n",
            "Location: /s/raw/dtw18saps0231yn/BrainTumorData.zip [following]\n",
            "--2023-07-14 06:27:20--  https://www.dropbox.com/s/raw/dtw18saps0231yn/BrainTumorData.zip\n",
            "Reusing existing connection to www.dropbox.com:443.\n",
            "HTTP request sent, awaiting response... 404 Not Found\n",
            "2023-07-14 06:27:20 ERROR 404: Not Found.\n",
            "\n"
          ]
        }
      ],
      "source": [
        "#!wget https://www.dropbox.com/s/dtw18saps0231yn/BrainTumorData.zip?dl=0\n"
      ]
    },
    {
      "cell_type": "code",
      "source": [
        "#!unzip /content/BrainTumorData.zip?dl=0"
      ],
      "metadata": {
        "id": "kQFY8F65OWuR"
      },
      "execution_count": null,
      "outputs": []
    },
    {
      "cell_type": "code",
      "source": [
        "\n",
        "#!mv /BrainTumorData /content\n",
        "#\"/content/BrainTumorData/Brain Tumor Data Set\""
      ],
      "metadata": {
        "id": "XuTgojKTtgkQ"
      },
      "execution_count": null,
      "outputs": []
    },
    {
      "cell_type": "code",
      "source": [
        "import warnings\n",
        "warnings.filterwarnings('ignore')\n",
        "import os\n",
        "import shutil\n",
        "import glob\n",
        "import math\n",
        "import numpy as np\n"
      ],
      "metadata": {
        "id": "SP1N5Utdt19K"
      },
      "execution_count": null,
      "outputs": []
    },
    {
      "cell_type": "code",
      "source": [
        "root_dir=\"/BrainTumorData/Brain Tumor Data Set\"\n",
        "no_of_img={}   #making a dictionary\n",
        "for dir in os.listdir(root_dir):\n",
        "    if dir=='.ipynb_checkpoints':\n",
        "      continue\n",
        "    no_of_img[dir]=len(os.listdir(os.path.join(root_dir,dir)))\n",
        "print(no_of_img)"
      ],
      "metadata": {
        "colab": {
          "base_uri": "https://localhost:8080/"
        },
        "id": "NRXugNDNu38p",
        "outputId": "2697bdd0-f5a3-48b8-9171-701b5c20052c"
      },
      "execution_count": null,
      "outputs": [
        {
          "output_type": "stream",
          "name": "stdout",
          "text": [
            "{'Brain Tumor': 2513, 'Healthey': 2087}\n"
          ]
        }
      ]
    },
    {
      "cell_type": "code",
      "source": [
        "def datafolder(p,split):\n",
        "    if not os.path.exists(\"/content/BrainTumorData/\"+p):\n",
        "        os.mkdir(\"/content/BrainTumorData/\"+p)\n",
        "        for dir in os.listdir(root_dir):\n",
        "            if dir=='.ipynb_checkpoints':\n",
        "              continue\n",
        "            os.makedirs(\"/content/BrainTumorData/\"+p+\"/\"+dir)\n",
        "            for img in np.random.choice(a=os.listdir(os.path.join(root_dir,dir)),\n",
        "                                    size=(math.floor(split*no_of_img[dir]-5))):\n",
        "                o=os.path.join(root_dir,dir,img)\n",
        "                d=os.path.join(\"/content/BrainTumorData/\"+p,dir)\n",
        "                shutil.copy(o,d)\n",
        "                #os.remove(o)\n",
        "    else:\n",
        "        print(f\"{p}folder exists\")\n"
      ],
      "metadata": {
        "id": "gLC0GOa2u_3g"
      },
      "execution_count": null,
      "outputs": []
    },
    {
      "cell_type": "code",
      "source": [
        "#shutil.rmtree('/content/BrainTumorData')"
      ],
      "metadata": {
        "id": "PGpgJebXJhxx"
      },
      "execution_count": null,
      "outputs": []
    },
    {
      "cell_type": "code",
      "source": [
        "datafolder(\"train\",0.7)"
      ],
      "metadata": {
        "id": "RwKEjxjAv0HS"
      },
      "execution_count": null,
      "outputs": []
    },
    {
      "cell_type": "code",
      "source": [
        "datafolder(\"val\", 0.15)"
      ],
      "metadata": {
        "id": "bGYb75mRv2IK"
      },
      "execution_count": null,
      "outputs": []
    },
    {
      "cell_type": "code",
      "source": [
        "datafolder(\"test\", 0.15)"
      ],
      "metadata": {
        "id": "E0c0l3OXv44S"
      },
      "execution_count": null,
      "outputs": []
    },
    {
      "cell_type": "code",
      "source": [
        "from keras.layers.convolutional import Conv2D\n",
        "from keras.models import Sequential\n",
        "from keras.layers import Dense, Activation, Flatten, Dropout, MaxPool2D, BatchNormalization, GlobalAvgPool2D\n",
        "\n",
        "\n",
        "from keras.preprocessing.image import ImageDataGenerator\n",
        "import keras\n"
      ],
      "metadata": {
        "id": "iIYETp0Bv9i6"
      },
      "execution_count": null,
      "outputs": []
    },
    {
      "cell_type": "code",
      "source": [
        "model=Sequential()\n",
        "model.add(Conv2D(filters=16, kernel_size=(3,3), activation='relu', input_shape=(224,224,3)))\n",
        "\n",
        "model.add(Conv2D(filters=36, kernel_size=(3,3), activation='relu'))\n",
        "model.add(MaxPool2D(pool_size=(2,2)))\n",
        "\n",
        "model.add(Conv2D(filters=64, kernel_size=(3,3), activation='relu'))\n",
        "model.add(MaxPool2D(pool_size=(2,2)))\n",
        "\n",
        "model.add(Conv2D(filters=128, kernel_size=(3,3), activation='relu'))\n",
        "model.add(MaxPool2D(pool_size=(2,2)))\n",
        "\n",
        "model.add(Dropout(rate=0.25))\n",
        "\n",
        "model.add(Flatten())\n",
        "model.add(Dense(units=64, activation='relu'))\n",
        "model.add(Dropout(rate=0.25))\n",
        "model.add(Dense(units=1, activation='sigmoid'))\n",
        "\n",
        "model.summary()"
      ],
      "metadata": {
        "colab": {
          "base_uri": "https://localhost:8080/"
        },
        "id": "e1WRUAReT5zu",
        "outputId": "68eb9625-7c9e-4653-900a-ebf6bb756839"
      },
      "execution_count": null,
      "outputs": [
        {
          "output_type": "stream",
          "name": "stdout",
          "text": [
            "Model: \"sequential\"\n",
            "_________________________________________________________________\n",
            " Layer (type)                Output Shape              Param #   \n",
            "=================================================================\n",
            " conv2d (Conv2D)             (None, 222, 222, 16)      448       \n",
            "                                                                 \n",
            " conv2d_1 (Conv2D)           (None, 220, 220, 36)      5220      \n",
            "                                                                 \n",
            " max_pooling2d (MaxPooling2D  (None, 110, 110, 36)     0         \n",
            " )                                                               \n",
            "                                                                 \n",
            " conv2d_2 (Conv2D)           (None, 108, 108, 64)      20800     \n",
            "                                                                 \n",
            " max_pooling2d_1 (MaxPooling  (None, 54, 54, 64)       0         \n",
            " 2D)                                                             \n",
            "                                                                 \n",
            " conv2d_3 (Conv2D)           (None, 52, 52, 128)       73856     \n",
            "                                                                 \n",
            " max_pooling2d_2 (MaxPooling  (None, 26, 26, 128)      0         \n",
            " 2D)                                                             \n",
            "                                                                 \n",
            " dropout (Dropout)           (None, 26, 26, 128)       0         \n",
            "                                                                 \n",
            " flatten (Flatten)           (None, 86528)             0         \n",
            "                                                                 \n",
            " dense (Dense)               (None, 64)                5537856   \n",
            "                                                                 \n",
            " dropout_1 (Dropout)         (None, 64)                0         \n",
            "                                                                 \n",
            " dense_1 (Dense)             (None, 1)                 65        \n",
            "                                                                 \n",
            "=================================================================\n",
            "Total params: 5,638,245\n",
            "Trainable params: 5,638,245\n",
            "Non-trainable params: 0\n",
            "_________________________________________________________________\n"
          ]
        }
      ]
    },
    {
      "cell_type": "code",
      "source": [
        "model.compile(optimizer='adam', loss=keras.losses.binary_crossentropy, metrics=['accuracy'])\n"
      ],
      "metadata": {
        "id": "f9iR2cljT7Dk"
      },
      "execution_count": null,
      "outputs": []
    },
    {
      "cell_type": "markdown",
      "source": [
        "**Using Image data generator to use our data**"
      ],
      "metadata": {
        "id": "0WKkliknW1kP"
      }
    },
    {
      "cell_type": "code",
      "source": [
        "def prepro_img1(path):\n",
        "  '''\n",
        "  input will be a path\n",
        "  output will be a pre processed image\n",
        "  '''\n",
        "  image_data=ImageDataGenerator(zoom_range=0.2, shear_range=0.2, rescale=1/255, horizontal_flip=True)\n",
        "  image=image_data.flow_from_directory(directory=path, target_size=(224,224),batch_size=32, class_mode='binary')\n",
        "  return image"
      ],
      "metadata": {
        "id": "hlyIKEJTWIXO"
      },
      "execution_count": null,
      "outputs": []
    },
    {
      "cell_type": "code",
      "source": [
        "path=\"/content/BrainTumorData/train\"\n",
        "train_data = prepro_img1(path)"
      ],
      "metadata": {
        "colab": {
          "base_uri": "https://localhost:8080/"
        },
        "id": "3c4gu8piax4l",
        "outputId": "bec5d2d5-fe03-4977-d551-5991710b6b4f"
      },
      "execution_count": null,
      "outputs": [
        {
          "output_type": "stream",
          "name": "stdout",
          "text": [
            "Found 2276 images belonging to 2 classes.\n"
          ]
        }
      ]
    },
    {
      "cell_type": "code",
      "source": [
        "def prepro_img2(path):\n",
        "  '''\n",
        "  input will be a path\n",
        "  output will be a pre processed image\n",
        "  '''\n",
        "  image_data=ImageDataGenerator( rescale=1/255)\n",
        "  image=image_data.flow_from_directory(directory=path, target_size=(224,224),batch_size=32, class_mode='binary')\n",
        "  return image"
      ],
      "metadata": {
        "id": "YfEsU57FbJLU"
      },
      "execution_count": null,
      "outputs": []
    },
    {
      "cell_type": "code",
      "source": [
        "path=\"/content/BrainTumorData/test\"\n",
        "test_data = prepro_img2(path)"
      ],
      "metadata": {
        "colab": {
          "base_uri": "https://localhost:8080/"
        },
        "id": "9NpDFTWRbk88",
        "outputId": "9543e3c9-cdc9-49e7-ac9b-e9bec9363a2f"
      },
      "execution_count": null,
      "outputs": [
        {
          "output_type": "stream",
          "name": "stdout",
          "text": [
            "Found 633 images belonging to 2 classes.\n"
          ]
        }
      ]
    },
    {
      "cell_type": "code",
      "source": [
        "path=\"/content/BrainTumorData/val\"\n",
        "val_data = prepro_img2(path)"
      ],
      "metadata": {
        "colab": {
          "base_uri": "https://localhost:8080/"
        },
        "id": "7_oxnWjvbtyc",
        "outputId": "24598758-2e54-410e-d39a-9648474770e0"
      },
      "execution_count": null,
      "outputs": [
        {
          "output_type": "stream",
          "name": "stdout",
          "text": [
            "Found 630 images belonging to 2 classes.\n"
          ]
        }
      ]
    },
    {
      "cell_type": "code",
      "source": [
        "# Early stopping and model check point\n",
        "\n",
        "from keras.callbacks import ModelCheckpoint, EarlyStopping\n",
        "\n",
        "#early stopping\n",
        "es=EarlyStopping(monitor=\"val_accuracy\", min_delta=0.01, patience=5, verbose=1, mode='auto')\n",
        "#model checkpoint\n",
        "mc=ModelCheckpoint(monitor=\"val_accuracy\", filepath=\"/content/bestmodel.h5\", verbose=1, save_best_only=True, mode='auto')\n",
        "cd=[es, mc]"
      ],
      "metadata": {
        "id": "C1y9fhxgcJCK"
      },
      "execution_count": null,
      "outputs": []
    },
    {
      "cell_type": "markdown",
      "source": [
        "**Model Training**"
      ],
      "metadata": {
        "id": "NHez_c9Bfk80"
      }
    },
    {
      "cell_type": "code",
      "source": [
        "hs=model.fit_generator(generator=train_data,\n",
        "                       steps_per_epoch=8,\n",
        "                       epochs=30,\n",
        "                       verbose=1,\n",
        "                       validation_data=val_data,\n",
        "                       validation_steps=16,\n",
        "                       callbacks=cd)"
      ],
      "metadata": {
        "colab": {
          "base_uri": "https://localhost:8080/"
        },
        "id": "GhKpvFewdaYU",
        "outputId": "2d0b9dfc-f57d-4e7e-e2f6-f3cabfb8e38c"
      },
      "execution_count": null,
      "outputs": [
        {
          "output_type": "stream",
          "name": "stdout",
          "text": [
            "Epoch 1/30\n",
            "8/8 [==============================] - ETA: 0s - loss: 0.9072 - accuracy: 0.5742\n",
            "Epoch 00001: val_accuracy improved from -inf to 0.54102, saving model to /content/bestmodel.h5\n",
            "8/8 [==============================] - 18s 881ms/step - loss: 0.9072 - accuracy: 0.5742 - val_loss: 0.6735 - val_accuracy: 0.5410\n",
            "Epoch 2/30\n",
            "8/8 [==============================] - ETA: 0s - loss: 0.6682 - accuracy: 0.5703\n",
            "Epoch 00002: val_accuracy improved from 0.54102 to 0.55664, saving model to /content/bestmodel.h5\n",
            "8/8 [==============================] - 7s 880ms/step - loss: 0.6682 - accuracy: 0.5703 - val_loss: 0.7056 - val_accuracy: 0.5566\n",
            "Epoch 3/30\n",
            "8/8 [==============================] - ETA: 0s - loss: 0.6965 - accuracy: 0.5469\n",
            "Epoch 00003: val_accuracy improved from 0.55664 to 0.60156, saving model to /content/bestmodel.h5\n",
            "8/8 [==============================] - 7s 885ms/step - loss: 0.6965 - accuracy: 0.5469 - val_loss: 0.6407 - val_accuracy: 0.6016\n",
            "Epoch 4/30\n",
            "8/8 [==============================] - ETA: 0s - loss: 0.6472 - accuracy: 0.6016\n",
            "Epoch 00004: val_accuracy improved from 0.60156 to 0.60352, saving model to /content/bestmodel.h5\n",
            "8/8 [==============================] - 7s 887ms/step - loss: 0.6472 - accuracy: 0.6016 - val_loss: 0.6310 - val_accuracy: 0.6035\n",
            "Epoch 5/30\n",
            "8/8 [==============================] - ETA: 0s - loss: 0.6674 - accuracy: 0.5742\n",
            "Epoch 00005: val_accuracy improved from 0.60352 to 0.66406, saving model to /content/bestmodel.h5\n",
            "8/8 [==============================] - 7s 886ms/step - loss: 0.6674 - accuracy: 0.5742 - val_loss: 0.6296 - val_accuracy: 0.6641\n",
            "Epoch 6/30\n",
            "8/8 [==============================] - ETA: 0s - loss: 0.6357 - accuracy: 0.6797\n",
            "Epoch 00006: val_accuracy improved from 0.66406 to 0.67578, saving model to /content/bestmodel.h5\n",
            "8/8 [==============================] - 7s 884ms/step - loss: 0.6357 - accuracy: 0.6797 - val_loss: 0.5898 - val_accuracy: 0.6758\n",
            "Epoch 7/30\n",
            "8/8 [==============================] - ETA: 0s - loss: 0.6333 - accuracy: 0.6562\n",
            "Epoch 00007: val_accuracy improved from 0.67578 to 0.75195, saving model to /content/bestmodel.h5\n",
            "8/8 [==============================] - 7s 886ms/step - loss: 0.6333 - accuracy: 0.6562 - val_loss: 0.5609 - val_accuracy: 0.7520\n",
            "Epoch 8/30\n",
            "8/8 [==============================] - ETA: 0s - loss: 0.5754 - accuracy: 0.7109\n",
            "Epoch 00008: val_accuracy improved from 0.75195 to 0.76758, saving model to /content/bestmodel.h5\n",
            "8/8 [==============================] - 7s 887ms/step - loss: 0.5754 - accuracy: 0.7109 - val_loss: 0.5122 - val_accuracy: 0.7676\n",
            "Epoch 9/30\n",
            "8/8 [==============================] - ETA: 0s - loss: 0.5437 - accuracy: 0.7617\n",
            "Epoch 00009: val_accuracy did not improve from 0.76758\n",
            "8/8 [==============================] - 7s 861ms/step - loss: 0.5437 - accuracy: 0.7617 - val_loss: 0.5000 - val_accuracy: 0.7422\n",
            "Epoch 10/30\n",
            "8/8 [==============================] - ETA: 0s - loss: 0.5095 - accuracy: 0.7325\n",
            "Epoch 00010: val_accuracy improved from 0.76758 to 0.78320, saving model to /content/bestmodel.h5\n",
            "8/8 [==============================] - 7s 862ms/step - loss: 0.5095 - accuracy: 0.7325 - val_loss: 0.4492 - val_accuracy: 0.7832\n",
            "Epoch 11/30\n",
            "8/8 [==============================] - ETA: 0s - loss: 0.5779 - accuracy: 0.7149\n",
            "Epoch 00011: val_accuracy did not improve from 0.78320\n",
            "8/8 [==============================] - 6s 829ms/step - loss: 0.5779 - accuracy: 0.7149 - val_loss: 0.5377 - val_accuracy: 0.7402\n",
            "Epoch 12/30\n",
            "8/8 [==============================] - ETA: 0s - loss: 0.5654 - accuracy: 0.7148\n",
            "Epoch 00012: val_accuracy improved from 0.78320 to 0.81250, saving model to /content/bestmodel.h5\n",
            "8/8 [==============================] - 7s 883ms/step - loss: 0.5654 - accuracy: 0.7148 - val_loss: 0.4718 - val_accuracy: 0.8125\n",
            "Epoch 13/30\n",
            "8/8 [==============================] - ETA: 0s - loss: 0.5126 - accuracy: 0.8086\n",
            "Epoch 00013: val_accuracy did not improve from 0.81250\n",
            "8/8 [==============================] - 7s 863ms/step - loss: 0.5126 - accuracy: 0.8086 - val_loss: 0.4112 - val_accuracy: 0.7988\n",
            "Epoch 14/30\n",
            "8/8 [==============================] - ETA: 0s - loss: 0.4490 - accuracy: 0.7969\n",
            "Epoch 00014: val_accuracy did not improve from 0.81250\n",
            "8/8 [==============================] - 7s 853ms/step - loss: 0.4490 - accuracy: 0.7969 - val_loss: 0.4881 - val_accuracy: 0.7637\n",
            "Epoch 15/30\n",
            "8/8 [==============================] - ETA: 0s - loss: 0.5857 - accuracy: 0.7305\n",
            "Epoch 00015: val_accuracy improved from 0.81250 to 0.82227, saving model to /content/bestmodel.h5\n",
            "8/8 [==============================] - 7s 884ms/step - loss: 0.5857 - accuracy: 0.7305 - val_loss: 0.4631 - val_accuracy: 0.8223\n",
            "Epoch 16/30\n",
            "8/8 [==============================] - ETA: 0s - loss: 0.5126 - accuracy: 0.7969\n",
            "Epoch 00016: val_accuracy improved from 0.82227 to 0.83008, saving model to /content/bestmodel.h5\n",
            "8/8 [==============================] - 7s 886ms/step - loss: 0.5126 - accuracy: 0.7969 - val_loss: 0.4446 - val_accuracy: 0.8301\n",
            "Epoch 17/30\n",
            "8/8 [==============================] - ETA: 0s - loss: 0.4468 - accuracy: 0.8086\n",
            "Epoch 00017: val_accuracy did not improve from 0.83008\n",
            "8/8 [==============================] - 7s 858ms/step - loss: 0.4468 - accuracy: 0.8086 - val_loss: 0.3891 - val_accuracy: 0.8203\n",
            "Epoch 18/30\n",
            "8/8 [==============================] - ETA: 0s - loss: 0.4306 - accuracy: 0.8047\n",
            "Epoch 00018: val_accuracy improved from 0.83008 to 0.83203, saving model to /content/bestmodel.h5\n",
            "8/8 [==============================] - 7s 889ms/step - loss: 0.4306 - accuracy: 0.8047 - val_loss: 0.4020 - val_accuracy: 0.8320\n",
            "Epoch 19/30\n",
            "8/8 [==============================] - ETA: 0s - loss: 0.4194 - accuracy: 0.8438\n",
            "Epoch 00019: val_accuracy did not improve from 0.83203\n",
            "8/8 [==============================] - 7s 857ms/step - loss: 0.4194 - accuracy: 0.8438 - val_loss: 0.4408 - val_accuracy: 0.8008\n",
            "Epoch 20/30\n",
            "8/8 [==============================] - ETA: 0s - loss: 0.4338 - accuracy: 0.8125\n",
            "Epoch 00020: val_accuracy improved from 0.83203 to 0.86523, saving model to /content/bestmodel.h5\n",
            "8/8 [==============================] - 7s 880ms/step - loss: 0.4338 - accuracy: 0.8125 - val_loss: 0.3440 - val_accuracy: 0.8652\n",
            "Epoch 21/30\n",
            "8/8 [==============================] - ETA: 0s - loss: 0.5011 - accuracy: 0.7812\n",
            "Epoch 00021: val_accuracy did not improve from 0.86523\n",
            "8/8 [==============================] - 7s 841ms/step - loss: 0.5011 - accuracy: 0.7812 - val_loss: 0.4176 - val_accuracy: 0.8047\n",
            "Epoch 22/30\n",
            "8/8 [==============================] - ETA: 0s - loss: 0.4515 - accuracy: 0.7891\n",
            "Epoch 00022: val_accuracy did not improve from 0.86523\n",
            "8/8 [==============================] - 7s 852ms/step - loss: 0.4515 - accuracy: 0.7891 - val_loss: 0.3655 - val_accuracy: 0.8301\n",
            "Epoch 23/30\n",
            "8/8 [==============================] - ETA: 0s - loss: 0.4337 - accuracy: 0.8359\n",
            "Epoch 00023: val_accuracy did not improve from 0.86523\n",
            "8/8 [==============================] - 7s 852ms/step - loss: 0.4337 - accuracy: 0.8359 - val_loss: 0.3976 - val_accuracy: 0.8027\n",
            "Epoch 24/30\n",
            "8/8 [==============================] - ETA: 0s - loss: 0.3700 - accuracy: 0.8438\n",
            "Epoch 00024: val_accuracy did not improve from 0.86523\n",
            "8/8 [==============================] - 7s 857ms/step - loss: 0.3700 - accuracy: 0.8438 - val_loss: 0.4255 - val_accuracy: 0.8086\n",
            "Epoch 25/30\n",
            "8/8 [==============================] - ETA: 0s - loss: 0.3714 - accuracy: 0.8438\n",
            "Epoch 00025: val_accuracy did not improve from 0.86523\n",
            "8/8 [==============================] - 7s 861ms/step - loss: 0.3714 - accuracy: 0.8438 - val_loss: 0.3668 - val_accuracy: 0.8398\n",
            "Epoch 00025: early stopping\n"
          ]
        }
      ]
    },
    {
      "cell_type": "code",
      "source": [
        "import matplotlib.pyplot as plt\n",
        "h=hs.history\n",
        "print(h.keys())"
      ],
      "metadata": {
        "colab": {
          "base_uri": "https://localhost:8080/"
        },
        "id": "hoYqIEaqhtPz",
        "outputId": "3bc7e92a-31a8-4f87-c059-3cd939d88672"
      },
      "execution_count": null,
      "outputs": [
        {
          "output_type": "stream",
          "name": "stdout",
          "text": [
            "dict_keys(['loss', 'accuracy', 'val_loss', 'val_accuracy'])\n"
          ]
        }
      ]
    },
    {
      "cell_type": "code",
      "source": [
        "plt.plot(h['accuracy'])"
      ],
      "metadata": {
        "colab": {
          "base_uri": "https://localhost:8080/",
          "height": 282
        },
        "id": "0cXB8wDNj7hq",
        "outputId": "df606bf1-dbef-42e6-ec8e-b9f8f56f9d5a"
      },
      "execution_count": null,
      "outputs": [
        {
          "output_type": "execute_result",
          "data": {
            "text/plain": [
              "[<matplotlib.lines.Line2D at 0x7fa042762210>]"
            ]
          },
          "metadata": {},
          "execution_count": 22
        },
        {
          "output_type": "display_data",
          "data": {
            "image/png": "[encoded data removed]",
            "text/plain": [
              "<Figure size 432x288 with 1 Axes>"
            ]
          },
          "metadata": {
            "needs_background": "light"
          }
        }
      ]
    },
    {
      "cell_type": "markdown",
      "source": [
        "**Accuracy---**"
      ],
      "metadata": {
        "id": "c4FPAHyqk9CR"
      }
    },
    {
      "cell_type": "code",
      "source": [
        "from keras.models import load_model\n",
        "model=load_model(\"/content/bestmodel.h5\")\n"
      ],
      "metadata": {
        "id": "1F-2YBdnkOW6"
      },
      "execution_count": null,
      "outputs": []
    },
    {
      "cell_type": "code",
      "source": [
        "acc=model.evaluate_generator(test_data)[1]\n",
        "print(f\"The accuracy of our Model is {acc*100}%\")"
      ],
      "metadata": {
        "id": "34vIa9SulVwq",
        "colab": {
          "base_uri": "https://localhost:8080/"
        },
        "outputId": "914bad68-a082-48ce-e529-c26d23256642"
      },
      "execution_count": null,
      "outputs": [
        {
          "output_type": "stream",
          "name": "stdout",
          "text": [
            "The accuracy of our Model is 83.41231942176819%\n"
          ]
        }
      ]
    },
    {
      "cell_type": "code",
      "source": [
        "\n",
        "from keras.preprocessing.image import load_img, img_to_array"
      ],
      "metadata": {
        "id": "ziaT3vWZlk4Z"
      },
      "execution_count": null,
      "outputs": []
    },
    {
      "cell_type": "code",
      "source": [
        "train_data.class_indices"
      ],
      "metadata": {
        "id": "9fhbqvYxpqz3",
        "colab": {
          "base_uri": "https://localhost:8080/"
        },
        "outputId": "7261777b-d1a6-4aec-f189-d3756a4ccb00"
      },
      "execution_count": null,
      "outputs": [
        {
          "output_type": "execute_result",
          "data": {
            "text/plain": [
              "{'Brain Tumor': 0, 'Healthey': 1}"
            ]
          },
          "metadata": {},
          "execution_count": 32
        }
      ]
    },
    {
      "cell_type": "code",
      "source": [
        "path=\"/content/BrainTumorData/Brain Tumor Data Set/Brain Tumor/Cancer (1000).jpg\"\n",
        "img=load_img (path,target_size=(224,224))\n",
        "input_arr=img_to_array(img)/255\n",
        "plt.imshow(input_arr)\n",
        "plt.show()\n",
        "input_arr.shape\n",
        "input_arr=np.expand_dims(input_arr, axis=0)\n",
        "pred=(model.predict(input_arr) > 0.5).astype(\"int32\")\n",
        "if pred[0][0]==0:\n",
        "  print(\"MRI is having a tumor\")\n",
        "else:\n",
        "  print(\"MRI is not having a tumor\")"
      ],
      "metadata": {
        "id": "hxCxCpPhnWnR",
        "colab": {
          "base_uri": "https://localhost:8080/",
          "height": 286
        },
        "outputId": "46501696-65b8-40d8-a091-ebf9fd4ddeee"
      },
      "execution_count": null,
      "outputs": [
        {
          "output_type": "display_data",
          "data": {
            "image/png": "[encoded data removed]",
            "text/plain": [
              "<Figure size 432x288 with 1 Axes>"
            ]
          },
          "metadata": {
            "needs_background": "light"
          }
        },
        {
          "output_type": "stream",
          "name": "stdout",
          "text": [
            "MRI is having a tumor\n"
          ]
        }
      ]
    },
    {
      "cell_type": "code",
      "source": [],
      "metadata": {
        "id": "KGLVhx9ToE3x"
      },
      "execution_count": null,
      "outputs": []
    }
  ]
}